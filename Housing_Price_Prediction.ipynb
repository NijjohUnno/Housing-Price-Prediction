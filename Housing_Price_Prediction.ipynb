{
  "nbformat": 4,
  "nbformat_minor": 0,
  "metadata": {
    "colab": {
      "provenance": [],
      "mount_file_id": "1yQqKEKn3E7Q5HKbXO25EXKVVdAuW2FiB",
      "authorship_tag": "ABX9TyNSuTD5Zpnw6StGl8NVxIpo",
      "include_colab_link": true
    },
    "kernelspec": {
      "name": "python3",
      "display_name": "Python 3"
    },
    "language_info": {
      "name": "python"
    }
  },
  "cells": [
    {
      "cell_type": "markdown",
      "metadata": {
        "id": "view-in-github",
        "colab_type": "text"
      },
      "source": [
        "<a href=\"https://colab.research.google.com/github/NijjohUnno/Housing-Price-Prediction/blob/main/Housing_Price_Prediction.ipynb\" target=\"_parent\"><img src=\"https://colab.research.google.com/assets/colab-badge.svg\" alt=\"Open In Colab\"/></a>"
      ]
    },
    {
      "cell_type": "markdown",
      "source": [
        "**Importing Libraries and the Dataset**"
      ],
      "metadata": {
        "id": "GtuxWNNsr85n"
      }
    },
    {
      "cell_type": "code",
      "source": [
        "import pandas as pd\n",
        "import numpy as np\n",
        "import matplotlib.pyplot as plt\n",
        "from sklearn.model_selection import train_test_split\n",
        "from sklearn.tree import DecisionTreeRegressor\n",
        "from sklearn.metrics import mean_squared_error\n",
        "\n",
        "\n",
        "\n",
        "file_path = '/content/drive/MyDrive/housing_price_dataset.csv'\n",
        "house_data = pd.read_csv(file_path)"
      ],
      "metadata": {
        "id": "A50h3sd4sD4v"
      },
      "execution_count": 26,
      "outputs": []
    },
    {
      "cell_type": "markdown",
      "source": [
        "**Exploring the Dataset**"
      ],
      "metadata": {
        "id": "BBuqkgqPsZXl"
      }
    },
    {
      "cell_type": "code",
      "source": [
        "#Display the first five rows of the dataset\n",
        "print(house_data.head())"
      ],
      "metadata": {
        "colab": {
          "base_uri": "https://localhost:8080/"
        },
        "id": "5Vzx_7BNsczu",
        "outputId": "39c60d6e-d0ee-4fd7-ec85-f9c8f97706e1"
      },
      "execution_count": 5,
      "outputs": [
        {
          "output_type": "stream",
          "name": "stdout",
          "text": [
            "   SquareFeet  Bedrooms  Bathrooms Neighborhood  YearBuilt          Price\n",
            "0        2126         4          1        Rural       1969  215355.283618\n",
            "1        2459         3          2        Rural       1980  195014.221626\n",
            "2        1860         2          1       Suburb       1970  306891.012076\n",
            "3        2294         2          1        Urban       1996  206786.787153\n",
            "4        2130         5          2       Suburb       2001  272436.239065\n"
          ]
        }
      ]
    },
    {
      "cell_type": "code",
      "source": [
        "#Display basic information about the dataset\n",
        "print(house_data.info())"
      ],
      "metadata": {
        "colab": {
          "base_uri": "https://localhost:8080/"
        },
        "id": "EObt_Z5bsvxv",
        "outputId": "f7332531-c48b-4fd3-a55d-17da356c3ed5"
      },
      "execution_count": 6,
      "outputs": [
        {
          "output_type": "stream",
          "name": "stdout",
          "text": [
            "<class 'pandas.core.frame.DataFrame'>\n",
            "RangeIndex: 50000 entries, 0 to 49999\n",
            "Data columns (total 6 columns):\n",
            " #   Column        Non-Null Count  Dtype  \n",
            "---  ------        --------------  -----  \n",
            " 0   SquareFeet    50000 non-null  int64  \n",
            " 1   Bedrooms      50000 non-null  int64  \n",
            " 2   Bathrooms     50000 non-null  int64  \n",
            " 3   Neighborhood  50000 non-null  object \n",
            " 4   YearBuilt     50000 non-null  int64  \n",
            " 5   Price         50000 non-null  float64\n",
            "dtypes: float64(1), int64(4), object(1)\n",
            "memory usage: 2.3+ MB\n",
            "None\n"
          ]
        }
      ]
    },
    {
      "cell_type": "code",
      "source": [
        "#Display summary statistics of the dataset\n",
        "print(house_data.describe())"
      ],
      "metadata": {
        "colab": {
          "base_uri": "https://localhost:8080/"
        },
        "id": "VsfkXKertbcX",
        "outputId": "aaa0a17a-1749-4a05-9586-61cfb27c8f78"
      },
      "execution_count": 7,
      "outputs": [
        {
          "output_type": "stream",
          "name": "stdout",
          "text": [
            "         SquareFeet      Bedrooms     Bathrooms     YearBuilt          Price\n",
            "count  50000.000000  50000.000000  50000.000000  50000.000000   50000.000000\n",
            "mean    2006.374680      3.498700      1.995420   1985.404420  224827.325151\n",
            "std      575.513241      1.116326      0.815851     20.719377   76141.842966\n",
            "min     1000.000000      2.000000      1.000000   1950.000000  -36588.165397\n",
            "25%     1513.000000      3.000000      1.000000   1967.000000  169955.860225\n",
            "50%     2007.000000      3.000000      2.000000   1985.000000  225052.141166\n",
            "75%     2506.000000      4.000000      3.000000   2003.000000  279373.630052\n",
            "max     2999.000000      5.000000      3.000000   2021.000000  492195.259972\n"
          ]
        }
      ]
    },
    {
      "cell_type": "code",
      "source": [
        "#Getting all the column names\n",
        "print(house_data.columns)"
      ],
      "metadata": {
        "colab": {
          "base_uri": "https://localhost:8080/"
        },
        "id": "_VzVGU0ttrZK",
        "outputId": "3e570f49-707e-4b90-aecb-8f3fd711d131"
      },
      "execution_count": 8,
      "outputs": [
        {
          "output_type": "stream",
          "name": "stdout",
          "text": [
            "Index(['SquareFeet', 'Bedrooms', 'Bathrooms', 'Neighborhood', 'YearBuilt',\n",
            "       'Price'],\n",
            "      dtype='object')\n"
          ]
        }
      ]
    },
    {
      "cell_type": "markdown",
      "source": [
        "**Missing Values**"
      ],
      "metadata": {
        "id": "YaSGGecKt5Vr"
      }
    },
    {
      "cell_type": "code",
      "source": [
        "#Check for missing values\n",
        "print(house_data.isnull().sum())"
      ],
      "metadata": {
        "colab": {
          "base_uri": "https://localhost:8080/"
        },
        "id": "IlzyYGWIt1Jb",
        "outputId": "e14c5b2b-f2a2-4b98-cc3c-82fbcae82bb9"
      },
      "execution_count": 9,
      "outputs": [
        {
          "output_type": "stream",
          "name": "stdout",
          "text": [
            "SquareFeet      0\n",
            "Bedrooms        0\n",
            "Bathrooms       0\n",
            "Neighborhood    0\n",
            "YearBuilt       0\n",
            "Price           0\n",
            "dtype: int64\n"
          ]
        }
      ]
    },
    {
      "cell_type": "markdown",
      "source": [
        "**Exploring the target variable(House Prices)**"
      ],
      "metadata": {
        "id": "Y8_qDinduuxj"
      }
    },
    {
      "cell_type": "code",
      "source": [
        "plt.hist(house_data['Price'], bins = 20, color = 'blue', alpha = 0.7)\n",
        "plt.title('Distribution of House Prices')\n",
        "plt.xlabel('Price')\n",
        "plt.ylabel('Frequency')\n",
        "plt.show()"
      ],
      "metadata": {
        "colab": {
          "base_uri": "https://localhost:8080/",
          "height": 472
        },
        "id": "8pVUUiCxu2qU",
        "outputId": "ee2778e3-e715-438d-de29-9a7e3c3a3820"
      },
      "execution_count": 15,
      "outputs": [
        {
          "output_type": "display_data",
          "data": {
            "text/plain": [
              "<Figure size 640x480 with 1 Axes>"
            ],
            "image/png": "[encoded data removed]"
          },
          "metadata": {}
        }
      ]
    },
    {
      "cell_type": "markdown",
      "source": [
        "**Target Variable**"
      ],
      "metadata": {
        "id": "lZdCuaCaxgtR"
      }
    },
    {
      "cell_type": "code",
      "source": [
        "y = house_data.Price"
      ],
      "metadata": {
        "id": "I1WdRaehxkGa"
      },
      "execution_count": 23,
      "outputs": []
    },
    {
      "cell_type": "markdown",
      "source": [
        "**Chosing Features**"
      ],
      "metadata": {
        "id": "_vhPUH-0v--l"
      }
    },
    {
      "cell_type": "code",
      "source": [
        "X = house_data.drop('Price', axis=1)\n",
        ""
      ],
      "metadata": {
        "id": "gPoSIbAswEBg"
      },
      "execution_count": 24,
      "outputs": []
    },
    {
      "cell_type": "markdown",
      "source": [
        "**Split the dataset (80% Training, 20% Test)**"
      ],
      "metadata": {
        "id": "0Z6mnMcAyUGS"
      }
    },
    {
      "cell_type": "code",
      "source": [
        "X_train, X_test, y_train, y_test = train_test_split(X, y, test_size=0.2, random_state = 42)\n",
        "\n",
        "# Display the shapes of the resulting sets\n",
        "print(\"Shape of X_train:\", X_train.shape)\n",
        "print(\"Shape of X_test:\", X_test.shape)\n",
        "print(\"Shape of y_train:\", y_train.shape)\n",
        "print(\"Shape of y_test:\", y_test.shape)"
      ],
      "metadata": {
        "colab": {
          "base_uri": "https://localhost:8080/"
        },
        "id": "4yWtjNy4ydE1",
        "outputId": "095ef9a5-a0b4-49a5-febc-551ff929dcf9"
      },
      "execution_count": 25,
      "outputs": [
        {
          "output_type": "stream",
          "name": "stdout",
          "text": [
            "Shape of X_train: (40000, 5)\n",
            "Shape of X_test: (10000, 5)\n",
            "Shape of y_train: (40000,)\n",
            "Shape of y_test: (10000,)\n"
          ]
        }
      ]
    },
    {
      "cell_type": "markdown",
      "source": [
        "Choosing a model\n",
        "Train the model\n",
        "Evaluate the model\n",
        "Communicate the results"
      ],
      "metadata": {
        "id": "RTdMoNx85ui9"
      }
    },
    {
      "cell_type": "code",
      "source": [
        "#Define the model with random_state for reproduccibility\n",
        "house_model = DecisionTreeRegressor(random_state=1)\n",
        "\n",
        "\n",
        "\n"
      ],
      "metadata": {
        "id": "mZSp5dXb6W5K"
      },
      "execution_count": 29,
      "outputs": []
    }
  ]
}